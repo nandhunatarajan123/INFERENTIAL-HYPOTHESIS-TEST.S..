{
 "cells": [
  {
   "cell_type": "code",
   "execution_count": 17,
   "id": "4a72d886",
   "metadata": {},
   "outputs": [],
   "source": [
    "import numpy as np"
   ]
  },
  {
   "cell_type": "markdown",
   "id": "c2110c2e",
   "metadata": {},
   "source": [
    "# Generate sample data: heights of 30 students (in inches)\n"
   ]
  },
  {
   "cell_type": "code",
   "execution_count": 18,
   "id": "c37f977e",
   "metadata": {},
   "outputs": [],
   "source": [
    "np.random.seed(42)  \n",
    "heights = np.random.normal(loc=65, scale=3, size=30)"
   ]
  },
  {
   "cell_type": "markdown",
   "id": "ea41551a",
   "metadata": {},
   "source": [
    "# Point estimation: calculate the sample mean"
   ]
  },
  {
   "cell_type": "code",
   "execution_count": 19,
   "id": "ce1d6e56",
   "metadata": {},
   "outputs": [
    {
     "name": "stdout",
     "output_type": "stream",
     "text": [
      "Sample Mean (Point Estimate): 64.43555931244688\n"
     ]
    }
   ],
   "source": [
    "sample_mean = np.mean(heights)\n",
    "print(\"Sample Mean (Point Estimate):\", sample_mean)"
   ]
  },
  {
   "cell_type": "code",
   "execution_count": 20,
   "id": "0890290d",
   "metadata": {},
   "outputs": [],
   "source": [
    "import numpy as np\n",
    "import scipy.stats as stats\n"
   ]
  },
  {
   "cell_type": "markdown",
   "id": "b0b0385e",
   "metadata": {},
   "source": [
    "# Generate sample data: heights of 30 students (in inches)"
   ]
  },
  {
   "cell_type": "code",
   "execution_count": 21,
   "id": "045d3d66",
   "metadata": {},
   "outputs": [],
   "source": [
    "np.random.seed(42) \n",
    "heights = np.random.normal(loc=65, scale=3, size=30)\n"
   ]
  },
  {
   "cell_type": "markdown",
   "id": "2d98ab3d",
   "metadata": {},
   "source": [
    "# Calculate the sample mean and standard deviation"
   ]
  },
  {
   "cell_type": "code",
   "execution_count": 22,
   "id": "d900b14e",
   "metadata": {},
   "outputs": [],
   "source": [
    "sample_mean = np.mean(heights)\n",
    "sample_std = np.std(heights, ddof=1) \n"
   ]
  },
  {
   "cell_type": "markdown",
   "id": "b6150749",
   "metadata": {},
   "source": [
    "# Set the desired confidence level"
   ]
  },
  {
   "cell_type": "code",
   "execution_count": 23,
   "id": "8bbb1b1f",
   "metadata": {},
   "outputs": [],
   "source": [
    "confidence_level = 0.95"
   ]
  },
  {
   "cell_type": "markdown",
   "id": "51f4fc3f",
   "metadata": {},
   "source": [
    "# Calculate the margin of error"
   ]
  },
  {
   "cell_type": "code",
   "execution_count": 24,
   "id": "232768ac",
   "metadata": {},
   "outputs": [],
   "source": [
    "margin_of_error = stats.t.ppf((1 + confidence_level) / 2, len(heights) - 1) * (sample_std / np.sqrt(len(heights)))\n"
   ]
  },
  {
   "cell_type": "markdown",
   "id": "37b9ce80",
   "metadata": {},
   "source": [
    "# Calculate the confidence interval"
   ]
  },
  {
   "cell_type": "code",
   "execution_count": 25,
   "id": "82d2980a",
   "metadata": {},
   "outputs": [],
   "source": [
    "lower_bound = sample_mean - margin_of_error\n",
    "upper_bound = sample_mean + margin_of_error\n"
   ]
  },
  {
   "cell_type": "markdown",
   "id": "f05acdc0",
   "metadata": {},
   "source": [
    "# Print the confidence interval"
   ]
  },
  {
   "cell_type": "code",
   "execution_count": 26,
   "id": "1d722cb0",
   "metadata": {},
   "outputs": [
    {
     "name": "stdout",
     "output_type": "stream",
     "text": [
      "Confidence Interval (95.0%): [63.427355543105506, 65.44376308178826]\n"
     ]
    }
   ],
   "source": [
    "print(f\"Confidence Interval ({confidence_level*100}%): [{lower_bound}, {upper_bound}]\")\n"
   ]
  },
  {
   "cell_type": "markdown",
   "id": "5cb20a1c",
   "metadata": {},
   "source": [
    "# hypothesis  T TEST,"
   ]
  },
  {
   "cell_type": "code",
   "execution_count": 43,
   "id": "d9710327",
   "metadata": {},
   "outputs": [],
   "source": [
    "import numpy as np\n",
    "from scipy import stats"
   ]
  },
  {
   "cell_type": "markdown",
   "id": "80f06ccb",
   "metadata": {},
   "source": [
    "# Generate sample data for two groups"
   ]
  },
  {
   "cell_type": "code",
   "execution_count": 45,
   "id": "2af9b4b5",
   "metadata": {},
   "outputs": [],
   "source": [
    "np.random.seed(42)  \n",
    "group1_scores = np.random.normal(loc=70, scale=5, size=30)\n",
    "group2_scores = np.random.normal(loc=75, scale=5, size=30)\n"
   ]
  },
  {
   "cell_type": "markdown",
   "id": "4a2b91b0",
   "metadata": {},
   "source": [
    "# Perform independent t-test"
   ]
  },
  {
   "cell_type": "code",
   "execution_count": 47,
   "id": "91f4e682",
   "metadata": {},
   "outputs": [],
   "source": [
    "t_statistic, p_value = stats.ttest_ind(group1_scores, group2_scores)\n"
   ]
  },
  {
   "cell_type": "markdown",
   "id": "c9aaca92",
   "metadata": {},
   "source": [
    "# Set the significance level"
   ]
  },
  {
   "cell_type": "code",
   "execution_count": 49,
   "id": "e7d8bf61",
   "metadata": {},
   "outputs": [],
   "source": [
    "alpha = 0.05\n"
   ]
  },
  {
   "cell_type": "code",
   "execution_count": 50,
   "id": "7a55c7e8",
   "metadata": {},
   "outputs": [
    {
     "name": "stdout",
     "output_type": "stream",
     "text": [
      "T-test Results:\n",
      "T-statistic: -4.512913234547576\n",
      "P-value: 3.176506547469916e-05\n"
     ]
    }
   ],
   "source": [
    "print(\"T-test Results:\")\n",
    "print(\"T-statistic:\", t_statistic)\n",
    "print(\"P-value:\", p_value)"
   ]
  },
  {
   "cell_type": "markdown",
   "id": "8ac8d961",
   "metadata": {},
   "source": [
    "# Check if the p-value is less than alpha to determine significance\n"
   ]
  },
  {
   "cell_type": "code",
   "execution_count": 51,
   "id": "3ca1c0e2",
   "metadata": {},
   "outputs": [
    {
     "name": "stdout",
     "output_type": "stream",
     "text": [
      "Reject the null hypothesis. There is a significant difference between the means of the two groups.\n"
     ]
    }
   ],
   "source": [
    "if p_value < alpha:\n",
    "    print(\"Reject the null hypothesis. There is a significant difference between the means of the two groups.\")\n",
    "else:\n",
    "    print(\"Fail to reject the null hypothesis. There is no significant difference between the means of the two groups.\")\n"
   ]
  },
  {
   "cell_type": "markdown",
   "id": "4bd4147f",
   "metadata": {},
   "source": [
    "# 1 TAIL/2 TAIL TEST"
   ]
  },
  {
   "cell_type": "code",
   "execution_count": 55,
   "id": "a7ba7f7e",
   "metadata": {},
   "outputs": [],
   "source": [
    "import numpy as np\n",
    "from scipy import stats\n"
   ]
  },
  {
   "cell_type": "markdown",
   "id": "1ecedf02",
   "metadata": {},
   "source": [
    "# Sample data for two groups"
   ]
  },
  {
   "cell_type": "code",
   "execution_count": 70,
   "id": "b54e46d7",
   "metadata": {},
   "outputs": [],
   "source": [
    "group1 = np.array([20, 22, 25, 28, 30, 32, 34, 35, 38, 40])\n",
    "group2 = np.array([18, 21, 24, 27, 29, 31, 33, 36, 37, 39])\n"
   ]
  },
  {
   "cell_type": "markdown",
   "id": "5873781a",
   "metadata": {},
   "source": [
    "# Perform two-tailed t-test"
   ]
  },
  {
   "cell_type": "code",
   "execution_count": 59,
   "id": "7e7ae51c",
   "metadata": {},
   "outputs": [],
   "source": [
    "t_statistic_2tail, p_value_2tail = stats.ttest_ind(group1, group2)\n"
   ]
  },
  {
   "cell_type": "markdown",
   "id": "b7fed493",
   "metadata": {},
   "source": [
    "# Perform one-tailed t-test (right-tailed)"
   ]
  },
  {
   "cell_type": "code",
   "execution_count": 61,
   "id": "509b5d42",
   "metadata": {},
   "outputs": [],
   "source": [
    "t_statistic_1tail_right, p_value_1tail_right = stats.ttest_ind(group1, group2, alternative='greater')"
   ]
  },
  {
   "cell_type": "markdown",
   "id": "9c7bef81",
   "metadata": {},
   "source": [
    "# Perform one-tailed t-test (left-tailed)"
   ]
  },
  {
   "cell_type": "code",
   "execution_count": 63,
   "id": "2cc901ac",
   "metadata": {},
   "outputs": [],
   "source": [
    "t_statistic_1tail_left, p_value_1tail_left = stats.ttest_ind(group1, group2, alternative='less')\n"
   ]
  },
  {
   "cell_type": "markdown",
   "id": "d5f285a4",
   "metadata": {},
   "source": [
    "# Print two-tailed test results"
   ]
  },
  {
   "cell_type": "code",
   "execution_count": 65,
   "id": "6e52f21b",
   "metadata": {},
   "outputs": [
    {
     "name": "stdout",
     "output_type": "stream",
     "text": [
      "Two-tailed Test:\n",
      "T-statistic: 0.293738659839077\n",
      "P-value: 0.7723176795011344\n"
     ]
    }
   ],
   "source": [
    "print(\"Two-tailed Test:\")\n",
    "print(\"T-statistic:\", t_statistic_2tail)\n",
    "print(\"P-value:\", p_value_2tail)"
   ]
  },
  {
   "cell_type": "markdown",
   "id": "e466da73",
   "metadata": {},
   "source": [
    "# Print one-tailed (right-tailed) test results"
   ]
  },
  {
   "cell_type": "code",
   "execution_count": 71,
   "id": "e4679c1e",
   "metadata": {},
   "outputs": [
    {
     "name": "stdout",
     "output_type": "stream",
     "text": [
      "\n",
      "One-tailed Test (Right-tailed):\n",
      "T-statistic: 0.293738659839077\n",
      "P-value: 0.3861588397505672\n"
     ]
    }
   ],
   "source": [
    "print(\"\\nOne-tailed Test (Right-tailed):\")\n",
    "print(\"T-statistic:\", t_statistic_1tail_right)\n",
    "print(\"P-value:\", p_value_1tail_right)\n"
   ]
  },
  {
   "cell_type": "markdown",
   "id": "c7266e0c",
   "metadata": {},
   "source": [
    "# Print one-tailed (left-tailed) test results"
   ]
  },
  {
   "cell_type": "code",
   "execution_count": 69,
   "id": "58cf2cff",
   "metadata": {},
   "outputs": [
    {
     "name": "stdout",
     "output_type": "stream",
     "text": [
      "\n",
      "One-tailed Test (Left-tailed):\n",
      "T-statistic: 0.293738659839077\n",
      "P-value: 0.6138411602494327\n"
     ]
    }
   ],
   "source": [
    "print(\"\\nOne-tailed Test (Left-tailed):\")\n",
    "print(\"T-statistic:\", t_statistic_1tail_left)\n",
    "print(\"P-value:\", p_value_1tail_left)\n"
   ]
  },
  {
   "cell_type": "code",
   "execution_count": null,
   "id": "4e66ef75",
   "metadata": {},
   "outputs": [],
   "source": []
  },
  {
   "cell_type": "code",
   "execution_count": null,
   "id": "ed490ef5",
   "metadata": {},
   "outputs": [],
   "source": []
  },
  {
   "cell_type": "code",
   "execution_count": null,
   "id": "8efcdd9b",
   "metadata": {},
   "outputs": [],
   "source": []
  },
  {
   "cell_type": "code",
   "execution_count": null,
   "id": "cd33c8b6",
   "metadata": {},
   "outputs": [],
   "source": []
  }
 ],
 "metadata": {
  "kernelspec": {
   "display_name": "Python 3 (ipykernel)",
   "language": "python",
   "name": "python3"
  },
  "language_info": {
   "codemirror_mode": {
    "name": "ipython",
    "version": 3
   },
   "file_extension": ".py",
   "mimetype": "text/x-python",
   "name": "python",
   "nbconvert_exporter": "python",
   "pygments_lexer": "ipython3",
   "version": "3.11.5"
  }
 },
 "nbformat": 4,
 "nbformat_minor": 5
}
